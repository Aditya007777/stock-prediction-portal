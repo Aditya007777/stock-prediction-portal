{
 "cells": [
  {
   "cell_type": "code",
   "execution_count": 2,
   "id": "99cfb521-5f8c-4d6f-925e-70350238cfcf",
   "metadata": {},
   "outputs": [],
   "source": [
    "import numpy as np"
   ]
  },
  {
   "cell_type": "code",
   "execution_count": 2,
   "id": "60f70787-48a7-4a6a-beb0-dac8ae1bf9d5",
   "metadata": {},
   "outputs": [
    {
     "data": {
      "text/plain": [
       "'2.2.4'"
      ]
     },
     "execution_count": 2,
     "metadata": {},
     "output_type": "execute_result"
    }
   ],
   "source": [
    "np.__version__"
   ]
  },
  {
   "cell_type": "markdown",
   "id": "98f6b29a-2f06-4927-987e-347833782b5c",
   "metadata": {},
   "source": [
    "## Create And Read"
   ]
  },
  {
   "cell_type": "markdown",
   "id": "5f489db4-5131-460b-a1af-478b29b35674",
   "metadata": {},
   "source": [
    "#### 1D array"
   ]
  },
  {
   "cell_type": "code",
   "execution_count": 3,
   "id": "fffbc920-a5d6-42f7-b06b-9f9baefac52c",
   "metadata": {},
   "outputs": [],
   "source": [
    "arr1 = np.array([1,2,3,4,5])"
   ]
  },
  {
   "cell_type": "code",
   "execution_count": 4,
   "id": "97b665d8-8e91-405c-b8c7-55e26285d9eb",
   "metadata": {},
   "outputs": [
    {
     "data": {
      "text/plain": [
       "array([1, 2, 3, 4, 5])"
      ]
     },
     "execution_count": 4,
     "metadata": {},
     "output_type": "execute_result"
    }
   ],
   "source": [
    "arr1"
   ]
  },
  {
   "cell_type": "code",
   "execution_count": 5,
   "id": "4c9deee0-7591-4a53-86fd-f6a783d09530",
   "metadata": {},
   "outputs": [
    {
     "data": {
      "text/plain": [
       "numpy.ndarray"
      ]
     },
     "execution_count": 5,
     "metadata": {},
     "output_type": "execute_result"
    }
   ],
   "source": [
    "type(arr1)"
   ]
  },
  {
   "cell_type": "code",
   "execution_count": 6,
   "id": "20962cb4-64bf-4d31-9096-61fb863a1e47",
   "metadata": {},
   "outputs": [
    {
     "data": {
      "text/plain": [
       "(5,)"
      ]
     },
     "execution_count": 6,
     "metadata": {},
     "output_type": "execute_result"
    }
   ],
   "source": [
    "arr1.shape"
   ]
  },
  {
   "cell_type": "code",
   "execution_count": 7,
   "id": "acbe6001-0838-40ee-9c11-7836f123a4ca",
   "metadata": {},
   "outputs": [
    {
     "data": {
      "text/plain": [
       "dtype('int64')"
      ]
     },
     "execution_count": 7,
     "metadata": {},
     "output_type": "execute_result"
    }
   ],
   "source": [
    "arr1.dtype"
   ]
  },
  {
   "cell_type": "code",
   "execution_count": 9,
   "id": "472ed284-a2bb-450d-a4fb-6aa03663d7fc",
   "metadata": {},
   "outputs": [
    {
     "data": {
      "text/plain": [
       "1"
      ]
     },
     "execution_count": 9,
     "metadata": {},
     "output_type": "execute_result"
    }
   ],
   "source": [
    "arr1.ndim"
   ]
  },
  {
   "cell_type": "code",
   "execution_count": 10,
   "id": "f20044ff-c183-4c54-bb87-1cbf5ee5fec0",
   "metadata": {},
   "outputs": [
    {
     "data": {
      "text/plain": [
       "5"
      ]
     },
     "execution_count": 10,
     "metadata": {},
     "output_type": "execute_result"
    }
   ],
   "source": [
    "arr1.size"
   ]
  },
  {
   "cell_type": "markdown",
   "id": "5ca2cbbf-5bce-488d-8c55-f94f91a8c4aa",
   "metadata": {},
   "source": [
    "## 2D Array\n",
    "\n",
    "An array that contains multiple 1D arrays."
   ]
  },
  {
   "cell_type": "code",
   "execution_count": 11,
   "id": "547c018e-e82c-4d7f-9d23-ccaa2ca16dbd",
   "metadata": {},
   "outputs": [],
   "source": [
    "arr2 = np.array([[1,4,5],[6,7,4]])"
   ]
  },
  {
   "cell_type": "code",
   "execution_count": 12,
   "id": "cf817faf-eaf6-47f4-9327-88402decda75",
   "metadata": {},
   "outputs": [
    {
     "data": {
      "text/plain": [
       "array([[1, 4, 5],\n",
       "       [6, 7, 4]])"
      ]
     },
     "execution_count": 12,
     "metadata": {},
     "output_type": "execute_result"
    }
   ],
   "source": [
    "arr2"
   ]
  },
  {
   "cell_type": "code",
   "execution_count": 13,
   "id": "b6450409-7c4e-4dd0-b83e-4a5da4d2e3ee",
   "metadata": {},
   "outputs": [
    {
     "data": {
      "text/plain": [
       "2"
      ]
     },
     "execution_count": 13,
     "metadata": {},
     "output_type": "execute_result"
    }
   ],
   "source": [
    "arr2.ndim"
   ]
  },
  {
   "cell_type": "code",
   "execution_count": 19,
   "id": "147641c6-e572-4667-972d-5ca51259d856",
   "metadata": {},
   "outputs": [
    {
     "data": {
      "text/plain": [
       "(2, 3)"
      ]
     },
     "execution_count": 19,
     "metadata": {},
     "output_type": "execute_result"
    }
   ],
   "source": [
    "arr2.shape # (row,col)"
   ]
  },
  {
   "cell_type": "code",
   "execution_count": 20,
   "id": "5d9cd085-73e3-48e3-8abc-5ed0610a5566",
   "metadata": {},
   "outputs": [
    {
     "data": {
      "text/plain": [
       "dtype('int64')"
      ]
     },
     "execution_count": 20,
     "metadata": {},
     "output_type": "execute_result"
    }
   ],
   "source": [
    "arr2.dtype"
   ]
  },
  {
   "cell_type": "code",
   "execution_count": 21,
   "id": "1a98a1f7-97d3-4660-ac1a-cec3ad52f1b3",
   "metadata": {},
   "outputs": [
    {
     "data": {
      "text/plain": [
       "6"
      ]
     },
     "execution_count": 21,
     "metadata": {},
     "output_type": "execute_result"
    }
   ],
   "source": [
    "arr2.size"
   ]
  },
  {
   "cell_type": "markdown",
   "id": "22c7bf35-935d-42e7-9c88-dbfa7f7b1547",
   "metadata": {},
   "source": [
    "## 3D Array"
   ]
  },
  {
   "cell_type": "code",
   "execution_count": 10,
   "id": "2381ab15-7b01-49ea-a1a0-8eb63c683a0e",
   "metadata": {},
   "outputs": [],
   "source": [
    "arr3 = np.array([[[1,4,5],[6,7,4]],[[6,3,5],[9,1,4]]])"
   ]
  },
  {
   "cell_type": "code",
   "execution_count": 23,
   "id": "767b74b5-cecd-4f9a-845d-7919fad09929",
   "metadata": {},
   "outputs": [
    {
     "data": {
      "text/plain": [
       "array([[[1, 4, 5],\n",
       "        [6, 7, 4]],\n",
       "\n",
       "       [[6, 3, 5],\n",
       "        [9, 1, 4]]])"
      ]
     },
     "execution_count": 23,
     "metadata": {},
     "output_type": "execute_result"
    }
   ],
   "source": [
    "arr3"
   ]
  },
  {
   "cell_type": "code",
   "execution_count": 24,
   "id": "a97f87a3-adb8-46e0-953f-8da91f0e271e",
   "metadata": {},
   "outputs": [
    {
     "data": {
      "text/plain": [
       "3"
      ]
     },
     "execution_count": 24,
     "metadata": {},
     "output_type": "execute_result"
    }
   ],
   "source": [
    "arr3.ndim"
   ]
  },
  {
   "cell_type": "code",
   "execution_count": 26,
   "id": "a4d2a62e-8017-4950-ad40-97267c3ce652",
   "metadata": {},
   "outputs": [
    {
     "data": {
      "text/plain": [
       "(2, 2, 3)"
      ]
     },
     "execution_count": 26,
     "metadata": {},
     "output_type": "execute_result"
    }
   ],
   "source": [
    "arr3.shape "
   ]
  },
  {
   "cell_type": "markdown",
   "id": "363340a0-f58d-4363-92fd-f28ee1af264e",
   "metadata": {},
   "source": [
    "In 3d array, (this is the number of layers that is the number of 2D arrays, this is the number of rows per layer,\n",
    "              this is the number of columns per layer)"
   ]
  },
  {
   "cell_type": "code",
   "execution_count": 17,
   "id": "49784b1f-9690-4bdf-a1e6-cdd910462640",
   "metadata": {},
   "outputs": [],
   "source": [
    "arr3 = np.array([[[1,4,5],[6,7,4],[1,4,5]],[[6,3,5],[9,1,4],[1,4,5]],[[1,4,5],[6,7,4],[1,4,5]]])"
   ]
  },
  {
   "cell_type": "code",
   "execution_count": 29,
   "id": "aae74515-8cd3-41bd-800a-04495d262a21",
   "metadata": {},
   "outputs": [
    {
     "data": {
      "text/plain": [
       "array([[[1, 4, 5],\n",
       "        [6, 7, 4],\n",
       "        [1, 4, 5]],\n",
       "\n",
       "       [[6, 3, 5],\n",
       "        [9, 1, 4],\n",
       "        [1, 4, 5]],\n",
       "\n",
       "       [[1, 4, 5],\n",
       "        [6, 7, 4],\n",
       "        [1, 4, 5]]])"
      ]
     },
     "execution_count": 29,
     "metadata": {},
     "output_type": "execute_result"
    }
   ],
   "source": [
    "arr3"
   ]
  },
  {
   "cell_type": "code",
   "execution_count": 34,
   "id": "199e1c03-5546-457a-9bdc-adbba9c1bb64",
   "metadata": {},
   "outputs": [
    {
     "data": {
      "text/plain": [
       "(3, 3, 3)"
      ]
     },
     "execution_count": 34,
     "metadata": {},
     "output_type": "execute_result"
    }
   ],
   "source": [
    "arr3.shape"
   ]
  },
  {
   "cell_type": "markdown",
   "id": "d7bcbb6d-d5cb-4ca1-bb76-19d362a47f4d",
   "metadata": {},
   "source": [
    "## Create random Array"
   ]
  },
  {
   "cell_type": "code",
   "execution_count": 31,
   "id": "7571003f-5b0b-4c0b-8990-9ae37629376c",
   "metadata": {},
   "outputs": [],
   "source": [
    "randomArr = np.random.rand(2,3,4)"
   ]
  },
  {
   "cell_type": "code",
   "execution_count": 32,
   "id": "07c7593b-b7bb-413c-b39d-058297f15536",
   "metadata": {},
   "outputs": [
    {
     "data": {
      "text/plain": [
       "array([[[0.66041142, 0.26743415, 0.94598079, 0.80418878],\n",
       "        [0.69306417, 0.00428703, 0.16476854, 0.85459005],\n",
       "        [0.46997543, 0.25328766, 0.9729495 , 0.99455942]],\n",
       "\n",
       "       [[0.33871526, 0.39557832, 0.57788872, 0.73090091],\n",
       "        [0.11587551, 0.68965691, 0.56828994, 0.62110698],\n",
       "        [0.60624732, 0.67045758, 0.76812273, 0.90891387]]])"
      ]
     },
     "execution_count": 32,
     "metadata": {},
     "output_type": "execute_result"
    }
   ],
   "source": [
    "randomArr"
   ]
  },
  {
   "cell_type": "code",
   "execution_count": 37,
   "id": "8c94903d-149c-41b4-8756-29e3eabe0e62",
   "metadata": {},
   "outputs": [],
   "source": [
    "randomArr2 = np.random.rand(4,3,4)"
   ]
  },
  {
   "cell_type": "code",
   "execution_count": 39,
   "id": "925e98bb-67e0-43e6-8e05-dbcbfeef566f",
   "metadata": {},
   "outputs": [
    {
     "data": {
      "text/plain": [
       "array([[[0.11644145, 0.95552638, 0.71000563, 0.71199808],\n",
       "        [0.44537722, 0.04069795, 0.72124462, 0.83845103],\n",
       "        [0.82580444, 0.85960606, 0.67249275, 0.49181535]],\n",
       "\n",
       "       [[0.02428953, 0.41058964, 0.00597271, 0.1704504 ],\n",
       "        [0.60163917, 0.76829583, 0.14830292, 0.14354946],\n",
       "        [0.53554139, 0.33848695, 0.06049446, 0.92279671]],\n",
       "\n",
       "       [[0.73478987, 0.51699351, 0.01589619, 0.90635244],\n",
       "        [0.15503548, 0.7557587 , 0.73054502, 0.64479447],\n",
       "        [0.11027403, 0.97408844, 0.53139019, 0.49973111]],\n",
       "\n",
       "       [[0.88692735, 0.63714561, 0.675631  , 0.55610185],\n",
       "        [0.0361364 , 0.18518628, 0.85113179, 0.93143803],\n",
       "        [0.22713511, 0.19431932, 0.6985038 , 0.69521619]]])"
      ]
     },
     "execution_count": 39,
     "metadata": {},
     "output_type": "execute_result"
    }
   ],
   "source": [
    "randomArr2"
   ]
  },
  {
   "cell_type": "code",
   "execution_count": 40,
   "id": "12f34817-5818-4016-8cca-82ee03589655",
   "metadata": {},
   "outputs": [
    {
     "data": {
      "text/plain": [
       "dtype('float64')"
      ]
     },
     "execution_count": 40,
     "metadata": {},
     "output_type": "execute_result"
    }
   ],
   "source": [
    "randomArr.dtype"
   ]
  },
  {
   "cell_type": "code",
   "execution_count": 41,
   "id": "315be2f4-d4d1-4544-a364-85a71babcc97",
   "metadata": {},
   "outputs": [
    {
     "data": {
      "text/plain": [
       "numpy.ndarray"
      ]
     },
     "execution_count": 41,
     "metadata": {},
     "output_type": "execute_result"
    }
   ],
   "source": [
    "type(randomArr)"
   ]
  },
  {
   "cell_type": "code",
   "execution_count": 35,
   "id": "71b8d522-b658-4fc0-a5ec-c065c873277f",
   "metadata": {},
   "outputs": [],
   "source": [
    "randomArr3 = np.zeros((2,3,4))"
   ]
  },
  {
   "cell_type": "code",
   "execution_count": 44,
   "id": "ff446367-66b7-4482-8fa9-610898ed6dc8",
   "metadata": {},
   "outputs": [
    {
     "data": {
      "text/plain": [
       "array([[[0., 0., 0., 0.],\n",
       "        [0., 0., 0., 0.],\n",
       "        [0., 0., 0., 0.]],\n",
       "\n",
       "       [[0., 0., 0., 0.],\n",
       "        [0., 0., 0., 0.],\n",
       "        [0., 0., 0., 0.]]])"
      ]
     },
     "execution_count": 44,
     "metadata": {},
     "output_type": "execute_result"
    }
   ],
   "source": [
    "randomArr3"
   ]
  },
  {
   "cell_type": "code",
   "execution_count": 45,
   "id": "3c2d830c-2d1d-455e-a482-6881c2ff658c",
   "metadata": {},
   "outputs": [
    {
     "data": {
      "text/plain": [
       "3"
      ]
     },
     "execution_count": 45,
     "metadata": {},
     "output_type": "execute_result"
    }
   ],
   "source": [
    "randomArr3.ndim"
   ]
  },
  {
   "cell_type": "code",
   "execution_count": 46,
   "id": "237d1cfd-b027-49f2-ae75-862cf0227b69",
   "metadata": {},
   "outputs": [],
   "source": [
    "randomArr4 = np.full((2,3,4),7)"
   ]
  },
  {
   "cell_type": "code",
   "execution_count": 47,
   "id": "e482d17d-a8c7-4404-baaf-6cb67e269ba4",
   "metadata": {},
   "outputs": [
    {
     "data": {
      "text/plain": [
       "array([[[7, 7, 7, 7],\n",
       "        [7, 7, 7, 7],\n",
       "        [7, 7, 7, 7]],\n",
       "\n",
       "       [[7, 7, 7, 7],\n",
       "        [7, 7, 7, 7],\n",
       "        [7, 7, 7, 7]]])"
      ]
     },
     "execution_count": 47,
     "metadata": {},
     "output_type": "execute_result"
    }
   ],
   "source": [
    "randomArr4"
   ]
  },
  {
   "cell_type": "code",
   "execution_count": 48,
   "id": "2b5bb019-a410-462b-b969-6330ab48ae65",
   "metadata": {},
   "outputs": [],
   "source": [
    "ones = np.ones(((2,3,4)))"
   ]
  },
  {
   "cell_type": "code",
   "execution_count": 49,
   "id": "b65e0a39-f1cb-485e-af94-b88191c3dc65",
   "metadata": {},
   "outputs": [
    {
     "data": {
      "text/plain": [
       "array([[[1., 1., 1., 1.],\n",
       "        [1., 1., 1., 1.],\n",
       "        [1., 1., 1., 1.]],\n",
       "\n",
       "       [[1., 1., 1., 1.],\n",
       "        [1., 1., 1., 1.],\n",
       "        [1., 1., 1., 1.]]])"
      ]
     },
     "execution_count": 49,
     "metadata": {},
     "output_type": "execute_result"
    }
   ],
   "source": [
    "ones"
   ]
  },
  {
   "cell_type": "code",
   "execution_count": 50,
   "id": "cfb28ffd-cf48-4fd1-a5d3-cafdeff3e816",
   "metadata": {},
   "outputs": [
    {
     "data": {
      "text/plain": [
       "array([[[1, 4, 5],\n",
       "        [6, 7, 4],\n",
       "        [1, 4, 5]],\n",
       "\n",
       "       [[6, 3, 5],\n",
       "        [9, 1, 4],\n",
       "        [1, 4, 5]],\n",
       "\n",
       "       [[1, 4, 5],\n",
       "        [6, 7, 4],\n",
       "        [1, 4, 5]]])"
      ]
     },
     "execution_count": 50,
     "metadata": {},
     "output_type": "execute_result"
    }
   ],
   "source": [
    "arr3"
   ]
  },
  {
   "cell_type": "code",
   "execution_count": 51,
   "id": "76fab10c-adfc-460f-b7c2-1ce6b4a26b88",
   "metadata": {},
   "outputs": [
    {
     "data": {
      "text/plain": [
       "array([[1, 4, 5],\n",
       "       [6, 7, 4],\n",
       "       [1, 4, 5]])"
      ]
     },
     "execution_count": 51,
     "metadata": {},
     "output_type": "execute_result"
    }
   ],
   "source": [
    "arr3[0]"
   ]
  },
  {
   "cell_type": "code",
   "execution_count": 52,
   "id": "d9d045ac-8a43-4ba3-b285-7b1d8d17b211",
   "metadata": {},
   "outputs": [
    {
     "data": {
      "text/plain": [
       "array([[1, 4, 5],\n",
       "       [6, 7, 4],\n",
       "       [1, 4, 5]])"
      ]
     },
     "execution_count": 52,
     "metadata": {},
     "output_type": "execute_result"
    }
   ],
   "source": [
    "arr3[2]"
   ]
  },
  {
   "cell_type": "code",
   "execution_count": 54,
   "id": "8ee49dfa-f56a-4351-b11e-fb470675b219",
   "metadata": {},
   "outputs": [
    {
     "data": {
      "text/plain": [
       "array([6, 7, 4])"
      ]
     },
     "execution_count": 54,
     "metadata": {},
     "output_type": "execute_result"
    }
   ],
   "source": [
    "arr3[2][1]"
   ]
  },
  {
   "cell_type": "code",
   "execution_count": 55,
   "id": "f0259774-3a34-4e05-b433-9dae972cb226",
   "metadata": {},
   "outputs": [
    {
     "data": {
      "text/plain": [
       "np.int64(4)"
      ]
     },
     "execution_count": 55,
     "metadata": {},
     "output_type": "execute_result"
    }
   ],
   "source": [
    "arr3[2][1][2]"
   ]
  },
  {
   "cell_type": "code",
   "execution_count": 56,
   "id": "7abba4cd-509d-45c2-ad14-cd3f5e36a545",
   "metadata": {},
   "outputs": [
    {
     "data": {
      "text/plain": [
       "np.int64(4)"
      ]
     },
     "execution_count": 56,
     "metadata": {},
     "output_type": "execute_result"
    }
   ],
   "source": [
    "arr3[2,1,2]"
   ]
  },
  {
   "cell_type": "markdown",
   "id": "0a8b590e-c4bc-4db4-975a-4b8830628074",
   "metadata": {},
   "source": [
    "## Update And Delete"
   ]
  },
  {
   "cell_type": "code",
   "execution_count": 57,
   "id": "24725937-5a63-4889-b3c8-b1baa7993fbf",
   "metadata": {},
   "outputs": [],
   "source": [
    "arr1 = np.random.rand(2,3,2)"
   ]
  },
  {
   "cell_type": "code",
   "execution_count": 58,
   "id": "0d2ba769-49ca-431e-a5ea-6ad2a82e6d7f",
   "metadata": {},
   "outputs": [
    {
     "data": {
      "text/plain": [
       "array([[[0.71965349, 0.34430159],\n",
       "        [0.21120199, 0.66051065],\n",
       "        [0.88856149, 0.29838514]],\n",
       "\n",
       "       [[0.71664498, 0.47265705],\n",
       "        [0.8287584 , 0.9538925 ],\n",
       "        [0.92760723, 0.51009644]]])"
      ]
     },
     "execution_count": 58,
     "metadata": {},
     "output_type": "execute_result"
    }
   ],
   "source": [
    "arr1"
   ]
  },
  {
   "cell_type": "code",
   "execution_count": 59,
   "id": "7af13b97-b54f-4d9c-9638-7518484927fc",
   "metadata": {},
   "outputs": [],
   "source": [
    "arr2 = np.random.rand(2,3,2)"
   ]
  },
  {
   "cell_type": "code",
   "execution_count": 60,
   "id": "f2b892a5-3d88-414b-8d1a-c3eb85f28d14",
   "metadata": {},
   "outputs": [
    {
     "data": {
      "text/plain": [
       "array([[[0.5823643 , 0.87894367],\n",
       "        [0.48547646, 0.76073685],\n",
       "        [0.63201169, 0.48126641]],\n",
       "\n",
       "       [[0.341006  , 0.83064719],\n",
       "        [0.01598278, 0.51130429],\n",
       "        [0.78579832, 0.01877785]]])"
      ]
     },
     "execution_count": 60,
     "metadata": {},
     "output_type": "execute_result"
    }
   ],
   "source": [
    "arr2"
   ]
  },
  {
   "cell_type": "markdown",
   "id": "a8460dc6-5df5-41e4-8c65-85e1d6967b65",
   "metadata": {},
   "source": [
    "#### Basic math operations"
   ]
  },
  {
   "cell_type": "code",
   "execution_count": 63,
   "id": "4725cbfa-b490-410b-b59c-c29d1e3575f0",
   "metadata": {},
   "outputs": [
    {
     "data": {
      "text/plain": [
       "array([[[1.30201778, 1.22324526],\n",
       "        [0.69667845, 1.42124751],\n",
       "        [1.52057317, 0.77965155]],\n",
       "\n",
       "       [[1.05765098, 1.30330424],\n",
       "        [0.84474118, 1.46519679],\n",
       "        [1.71340555, 0.52887429]]])"
      ]
     },
     "execution_count": 63,
     "metadata": {},
     "output_type": "execute_result"
    }
   ],
   "source": [
    "np.add(arr1,arr2)"
   ]
  },
  {
   "cell_type": "code",
   "execution_count": 64,
   "id": "eea0732c-632b-48d6-9a86-6ca6d3210be9",
   "metadata": {},
   "outputs": [
    {
     "data": {
      "text/plain": [
       "array([[[ 0.13728919, -0.53464208],\n",
       "        [-0.27427447, -0.1002262 ],\n",
       "        [ 0.2565498 , -0.18288128]],\n",
       "\n",
       "       [[ 0.37563899, -0.35799014],\n",
       "        [ 0.81277562,  0.44258821],\n",
       "        [ 0.14180891,  0.4913186 ]]])"
      ]
     },
     "execution_count": 64,
     "metadata": {},
     "output_type": "execute_result"
    }
   ],
   "source": [
    "np.subtract(arr1,arr2)"
   ]
  },
  {
   "cell_type": "code",
   "execution_count": 65,
   "id": "31ee70a2-0c19-4bcd-a683-e6e78d6e076b",
   "metadata": {},
   "outputs": [
    {
     "data": {
      "text/plain": [
       "array([[[ 1.23574451,  0.39172202],\n",
       "        [ 0.43504064,  0.86825115],\n",
       "        [ 1.40592572,  0.61999992]],\n",
       "\n",
       "       [[ 2.10156123,  0.56902263],\n",
       "        [51.85319943,  1.86560629],\n",
       "        [ 1.18046477, 27.16480181]]])"
      ]
     },
     "execution_count": 65,
     "metadata": {},
     "output_type": "execute_result"
    }
   ],
   "source": [
    "np.divide(arr1,arr2)"
   ]
  },
  {
   "cell_type": "code",
   "execution_count": 66,
   "id": "a3578731-73aa-4bed-867a-581ac79a2c0b",
   "metadata": {},
   "outputs": [
    {
     "data": {
      "text/plain": [
       "array([[[0.4191005 , 0.30262171],\n",
       "        [0.10253359, 0.5024748 ],\n",
       "        [0.56158124, 0.14360274]],\n",
       "\n",
       "       [[0.24438024, 0.39261125],\n",
       "        [0.01324587, 0.48772933],\n",
       "        [0.7289122 , 0.00957851]]])"
      ]
     },
     "execution_count": 66,
     "metadata": {},
     "output_type": "execute_result"
    }
   ],
   "source": [
    "np.multiply(arr1,arr2)"
   ]
  },
  {
   "cell_type": "markdown",
   "id": "95236ec0-aff3-4db4-a887-4b96202debf6",
   "metadata": {},
   "source": [
    "#### Statistical Operations"
   ]
  },
  {
   "cell_type": "code",
   "execution_count": 67,
   "id": "3385ec9c-e72a-4ade-a928-033aa175f4d1",
   "metadata": {},
   "outputs": [],
   "source": [
    "squareRoot = np.sqrt(49)"
   ]
  },
  {
   "cell_type": "code",
   "execution_count": 68,
   "id": "3dec9b93-198a-4337-b283-6d54b4507849",
   "metadata": {},
   "outputs": [
    {
     "data": {
      "text/plain": [
       "np.float64(7.0)"
      ]
     },
     "execution_count": 68,
     "metadata": {},
     "output_type": "execute_result"
    }
   ],
   "source": [
    "squareRoot"
   ]
  },
  {
   "cell_type": "code",
   "execution_count": 3,
   "id": "c02874b2-cf86-4ac5-98e0-5deda334e121",
   "metadata": {},
   "outputs": [],
   "source": [
    "absoluteValue = np.abs(-55)"
   ]
  },
  {
   "cell_type": "code",
   "execution_count": 4,
   "id": "25a33fd7-e353-4f63-aec3-874f9a132e01",
   "metadata": {},
   "outputs": [
    {
     "data": {
      "text/plain": [
       "np.int64(55)"
      ]
     },
     "execution_count": 4,
     "metadata": {},
     "output_type": "execute_result"
    }
   ],
   "source": [
    "absoluteValue"
   ]
  },
  {
   "cell_type": "code",
   "execution_count": 5,
   "id": "ad26839f-49ac-4b72-8da8-72bcaf37fea2",
   "metadata": {},
   "outputs": [],
   "source": [
    "power = np.power(2,3)"
   ]
  },
  {
   "cell_type": "code",
   "execution_count": 6,
   "id": "8d55fdde-967b-48fb-9e95-ca112d291192",
   "metadata": {},
   "outputs": [
    {
     "data": {
      "text/plain": [
       "np.int64(8)"
      ]
     },
     "execution_count": 6,
     "metadata": {},
     "output_type": "execute_result"
    }
   ],
   "source": [
    "power"
   ]
  },
  {
   "cell_type": "code",
   "execution_count": 7,
   "id": "2508a73c-589d-4054-907b-66c625fef8b0",
   "metadata": {},
   "outputs": [],
   "source": [
    "log = np.log(25)"
   ]
  },
  {
   "cell_type": "code",
   "execution_count": 8,
   "id": "8c99c219-1548-41bc-95ef-9af9dddb0e59",
   "metadata": {},
   "outputs": [
    {
     "data": {
      "text/plain": [
       "np.float64(3.2188758248682006)"
      ]
     },
     "execution_count": 8,
     "metadata": {},
     "output_type": "execute_result"
    }
   ],
   "source": [
    "log"
   ]
  },
  {
   "cell_type": "code",
   "execution_count": 11,
   "id": "5ad01a1a-94d8-435a-8302-aaf414e84f09",
   "metadata": {},
   "outputs": [
    {
     "data": {
      "text/plain": [
       "array([[[1, 4, 5],\n",
       "        [6, 7, 4]],\n",
       "\n",
       "       [[6, 3, 5],\n",
       "        [9, 1, 4]]])"
      ]
     },
     "execution_count": 11,
     "metadata": {},
     "output_type": "execute_result"
    }
   ],
   "source": [
    "arr3"
   ]
  },
  {
   "cell_type": "code",
   "execution_count": 12,
   "id": "51074cf4-4757-4b7f-87ae-bee7760c52b1",
   "metadata": {},
   "outputs": [],
   "source": [
    "minimum = np.min(arr3)"
   ]
  },
  {
   "cell_type": "code",
   "execution_count": 13,
   "id": "cf05e689-4cf8-4203-8514-0ea498ec0184",
   "metadata": {},
   "outputs": [
    {
     "data": {
      "text/plain": [
       "np.int64(1)"
      ]
     },
     "execution_count": 13,
     "metadata": {},
     "output_type": "execute_result"
    }
   ],
   "source": [
    "minimum"
   ]
  },
  {
   "cell_type": "code",
   "execution_count": 14,
   "id": "a8663f97-a3ba-449c-af72-37fb34827263",
   "metadata": {},
   "outputs": [],
   "source": [
    "maximum = np.max(arr3)"
   ]
  },
  {
   "cell_type": "code",
   "execution_count": 15,
   "id": "f1e1fc65-8574-44fb-8ee7-694d907cb44d",
   "metadata": {},
   "outputs": [
    {
     "data": {
      "text/plain": [
       "np.int64(9)"
      ]
     },
     "execution_count": 15,
     "metadata": {},
     "output_type": "execute_result"
    }
   ],
   "source": [
    "maximum"
   ]
  },
  {
   "cell_type": "markdown",
   "id": "aa3bf488-5345-4327-b0ac-0fb940408a18",
   "metadata": {},
   "source": [
    "## Update elements in array"
   ]
  },
  {
   "cell_type": "code",
   "execution_count": 18,
   "id": "15d17165-6833-4aeb-8a88-a975717753c1",
   "metadata": {},
   "outputs": [
    {
     "data": {
      "text/plain": [
       "array([[[1, 4, 5],\n",
       "        [6, 7, 4],\n",
       "        [1, 4, 5]],\n",
       "\n",
       "       [[6, 3, 5],\n",
       "        [9, 1, 4],\n",
       "        [1, 4, 5]],\n",
       "\n",
       "       [[1, 4, 5],\n",
       "        [6, 7, 4],\n",
       "        [1, 4, 5]]])"
      ]
     },
     "execution_count": 18,
     "metadata": {},
     "output_type": "execute_result"
    }
   ],
   "source": [
    "arr3"
   ]
  },
  {
   "cell_type": "code",
   "execution_count": 19,
   "id": "8a71ec8d-ea51-44d3-a044-d1ce3615dfd5",
   "metadata": {},
   "outputs": [],
   "source": [
    "arr3[0,0,2] = 500"
   ]
  },
  {
   "cell_type": "code",
   "execution_count": 20,
   "id": "36cb1400-acd6-4b53-a466-70bef11cc628",
   "metadata": {},
   "outputs": [
    {
     "data": {
      "text/plain": [
       "array([[[  1,   4, 500],\n",
       "        [  6,   7,   4],\n",
       "        [  1,   4,   5]],\n",
       "\n",
       "       [[  6,   3,   5],\n",
       "        [  9,   1,   4],\n",
       "        [  1,   4,   5]],\n",
       "\n",
       "       [[  1,   4,   5],\n",
       "        [  6,   7,   4],\n",
       "        [  1,   4,   5]]])"
      ]
     },
     "execution_count": 20,
     "metadata": {},
     "output_type": "execute_result"
    }
   ],
   "source": [
    "arr3"
   ]
  },
  {
   "cell_type": "code",
   "execution_count": 21,
   "id": "90ca2e3c-db8a-4827-a29c-7148a1986c02",
   "metadata": {},
   "outputs": [],
   "source": [
    "arr3.sort()"
   ]
  },
  {
   "cell_type": "code",
   "execution_count": 22,
   "id": "dcfa4326-df25-4867-8a38-3766a5c91431",
   "metadata": {},
   "outputs": [
    {
     "data": {
      "text/plain": [
       "array([[[  1,   4, 500],\n",
       "        [  4,   6,   7],\n",
       "        [  1,   4,   5]],\n",
       "\n",
       "       [[  3,   5,   6],\n",
       "        [  1,   4,   9],\n",
       "        [  1,   4,   5]],\n",
       "\n",
       "       [[  1,   4,   5],\n",
       "        [  4,   6,   7],\n",
       "        [  1,   4,   5]]])"
      ]
     },
     "execution_count": 22,
     "metadata": {},
     "output_type": "execute_result"
    }
   ],
   "source": [
    "arr3"
   ]
  },
  {
   "cell_type": "code",
   "execution_count": 23,
   "id": "b586ce53-64a4-4c55-afc8-2473fe348d44",
   "metadata": {},
   "outputs": [
    {
     "data": {
      "text/plain": [
       "(3, 3, 3)"
      ]
     },
     "execution_count": 23,
     "metadata": {},
     "output_type": "execute_result"
    }
   ],
   "source": [
    "arr3.shape"
   ]
  },
  {
   "cell_type": "markdown",
   "id": "bcc4147c-c703-4099-b518-383a5734b1c9",
   "metadata": {},
   "source": [
    "#### Reshape array "
   ]
  },
  {
   "cell_type": "code",
   "execution_count": 28,
   "id": "88c0280c-9ceb-4f69-b7ca-eb9758ec3d5b",
   "metadata": {},
   "outputs": [],
   "source": [
    "array = np.random.rand(2,3,2)"
   ]
  },
  {
   "cell_type": "code",
   "execution_count": 29,
   "id": "57b0931c-6fd5-4688-9466-4e314094de97",
   "metadata": {},
   "outputs": [
    {
     "data": {
      "text/plain": [
       "array([[[0.21677598, 0.63593205],\n",
       "        [0.40149731, 0.37372374],\n",
       "        [0.68828335, 0.50894114]],\n",
       "\n",
       "       [[0.0146127 , 0.76667176],\n",
       "        [0.99779462, 0.17892392],\n",
       "        [0.10044403, 0.4167132 ]]])"
      ]
     },
     "execution_count": 29,
     "metadata": {},
     "output_type": "execute_result"
    }
   ],
   "source": [
    "array"
   ]
  },
  {
   "cell_type": "code",
   "execution_count": 30,
   "id": "c561aa50-27a9-49e3-b94e-92d850f85ebe",
   "metadata": {},
   "outputs": [
    {
     "data": {
      "text/plain": [
       "(2, 3, 2)"
      ]
     },
     "execution_count": 30,
     "metadata": {},
     "output_type": "execute_result"
    }
   ],
   "source": [
    "array.shape"
   ]
  },
  {
   "cell_type": "code",
   "execution_count": 33,
   "id": "011c74b9-9c07-4a98-9c06-0b95c9caf458",
   "metadata": {},
   "outputs": [
    {
     "data": {
      "text/plain": [
       "array([[[0.21677598, 0.63593205, 0.40149731],\n",
       "        [0.37372374, 0.68828335, 0.50894114]],\n",
       "\n",
       "       [[0.0146127 , 0.76667176, 0.99779462],\n",
       "        [0.17892392, 0.10044403, 0.4167132 ]]])"
      ]
     },
     "execution_count": 33,
     "metadata": {},
     "output_type": "execute_result"
    }
   ],
   "source": [
    "array.reshape(2,2,3) # 2*3*2 = 2*2*3 = 12"
   ]
  },
  {
   "cell_type": "markdown",
   "id": "01ca9f5e-e4ca-4ad4-bcbb-bb8f84e080cf",
   "metadata": {},
   "source": [
    "### Appending And inserting"
   ]
  },
  {
   "cell_type": "code",
   "execution_count": 52,
   "id": "323497d6-f86c-43cf-979d-9eff9c1134ce",
   "metadata": {},
   "outputs": [],
   "source": [
    "zeroes = np.zeros((3,2,3))"
   ]
  },
  {
   "cell_type": "code",
   "execution_count": 53,
   "id": "b548a321-1574-4bf5-a320-241bb874bfb5",
   "metadata": {},
   "outputs": [
    {
     "data": {
      "text/plain": [
       "array([[[0., 0., 0.],\n",
       "        [0., 0., 0.]],\n",
       "\n",
       "       [[0., 0., 0.],\n",
       "        [0., 0., 0.]],\n",
       "\n",
       "       [[0., 0., 0.],\n",
       "        [0., 0., 0.]]])"
      ]
     },
     "execution_count": 53,
     "metadata": {},
     "output_type": "execute_result"
    }
   ],
   "source": [
    "zeroes"
   ]
  },
  {
   "cell_type": "code",
   "execution_count": 54,
   "id": "e8cc30da-20f2-45ef-83f0-cb3cf62fa44d",
   "metadata": {},
   "outputs": [],
   "source": [
    "newArray = np.ones((3, 2, 3))"
   ]
  },
  {
   "cell_type": "code",
   "execution_count": 55,
   "id": "577cb2f2-ad22-4d5f-8bd5-4e1f5c9239ea",
   "metadata": {},
   "outputs": [
    {
     "data": {
      "text/plain": [
       "array([[[1., 1., 1.],\n",
       "        [1., 1., 1.]],\n",
       "\n",
       "       [[1., 1., 1.],\n",
       "        [1., 1., 1.]],\n",
       "\n",
       "       [[1., 1., 1.],\n",
       "        [1., 1., 1.]]])"
      ]
     },
     "execution_count": 55,
     "metadata": {},
     "output_type": "execute_result"
    }
   ],
   "source": [
    "newArray"
   ]
  },
  {
   "cell_type": "code",
   "execution_count": 56,
   "id": "b91b9e08-94fb-4f0b-b063-73b26d7119e2",
   "metadata": {},
   "outputs": [],
   "source": [
    "append = np.append(zeroes,newArray,axis = 1)"
   ]
  },
  {
   "cell_type": "code",
   "execution_count": 57,
   "id": "fa13fb59-63c7-4fa4-adb4-3cc22d3b6ff8",
   "metadata": {},
   "outputs": [
    {
     "data": {
      "text/plain": [
       "array([[[0., 0., 0.],\n",
       "        [0., 0., 0.],\n",
       "        [1., 1., 1.],\n",
       "        [1., 1., 1.]],\n",
       "\n",
       "       [[0., 0., 0.],\n",
       "        [0., 0., 0.],\n",
       "        [1., 1., 1.],\n",
       "        [1., 1., 1.]],\n",
       "\n",
       "       [[0., 0., 0.],\n",
       "        [0., 0., 0.],\n",
       "        [1., 1., 1.],\n",
       "        [1., 1., 1.]]])"
      ]
     },
     "execution_count": 57,
     "metadata": {},
     "output_type": "execute_result"
    }
   ],
   "source": [
    "append"
   ]
  },
  {
   "cell_type": "code",
   "execution_count": 58,
   "id": "33655bc0-1e27-4e65-8817-0fc8a0cdb0f2",
   "metadata": {},
   "outputs": [],
   "source": [
    "append = np.append(zeroes,newArray,axis = 0)"
   ]
  },
  {
   "cell_type": "code",
   "execution_count": 59,
   "id": "800d2622-2cb5-4cfb-b5a3-82ede4c935f2",
   "metadata": {},
   "outputs": [
    {
     "data": {
      "text/plain": [
       "array([[[0., 0., 0.],\n",
       "        [0., 0., 0.]],\n",
       "\n",
       "       [[0., 0., 0.],\n",
       "        [0., 0., 0.]],\n",
       "\n",
       "       [[0., 0., 0.],\n",
       "        [0., 0., 0.]],\n",
       "\n",
       "       [[1., 1., 1.],\n",
       "        [1., 1., 1.]],\n",
       "\n",
       "       [[1., 1., 1.],\n",
       "        [1., 1., 1.]],\n",
       "\n",
       "       [[1., 1., 1.],\n",
       "        [1., 1., 1.]]])"
      ]
     },
     "execution_count": 59,
     "metadata": {},
     "output_type": "execute_result"
    }
   ],
   "source": [
    "append"
   ]
  },
  {
   "cell_type": "code",
   "execution_count": 62,
   "id": "0dc750bc-05a4-45b2-b93d-9e4159c57622",
   "metadata": {},
   "outputs": [],
   "source": [
    "insert = np.insert(zeroes,2,newArray,axis=0)"
   ]
  },
  {
   "cell_type": "code",
   "execution_count": 63,
   "id": "11645af0-218d-4add-85db-9d46cb848e23",
   "metadata": {},
   "outputs": [
    {
     "data": {
      "text/plain": [
       "array([[[0., 0., 0.],\n",
       "        [0., 0., 0.]],\n",
       "\n",
       "       [[0., 0., 0.],\n",
       "        [0., 0., 0.]],\n",
       "\n",
       "       [[1., 1., 1.],\n",
       "        [1., 1., 1.]],\n",
       "\n",
       "       [[1., 1., 1.],\n",
       "        [1., 1., 1.]],\n",
       "\n",
       "       [[1., 1., 1.],\n",
       "        [1., 1., 1.]],\n",
       "\n",
       "       [[0., 0., 0.],\n",
       "        [0., 0., 0.]]])"
      ]
     },
     "execution_count": 63,
     "metadata": {},
     "output_type": "execute_result"
    }
   ],
   "source": [
    "insert"
   ]
  },
  {
   "cell_type": "markdown",
   "id": "8db2ca6a-ef6b-4d5f-b853-a320b5650ef5",
   "metadata": {},
   "source": [
    "## Delete"
   ]
  },
  {
   "cell_type": "code",
   "execution_count": 64,
   "id": "78aefad4-7bd8-4b62-834d-d86bc57644a6",
   "metadata": {},
   "outputs": [],
   "source": [
    "arr4 = np.random.rand(3,2,3)"
   ]
  },
  {
   "cell_type": "code",
   "execution_count": 65,
   "id": "ce854e4d-fef8-49b1-942b-5a7097e5decc",
   "metadata": {},
   "outputs": [
    {
     "data": {
      "text/plain": [
       "array([[[0.98306077, 0.5799525 , 0.60747172],\n",
       "        [0.01409199, 0.10097156, 0.37598779]],\n",
       "\n",
       "       [[0.18477931, 0.1408316 , 0.38202659],\n",
       "        [0.97814808, 0.46909365, 0.1948998 ]],\n",
       "\n",
       "       [[0.10191218, 0.90842797, 0.70598963],\n",
       "        [0.34753391, 0.17991348, 0.61279281]]])"
      ]
     },
     "execution_count": 65,
     "metadata": {},
     "output_type": "execute_result"
    }
   ],
   "source": [
    "arr4"
   ]
  },
  {
   "cell_type": "code",
   "execution_count": 68,
   "id": "1ff15d1b-007e-4b46-8bcd-7b95e0e078ab",
   "metadata": {},
   "outputs": [],
   "source": [
    "arr5 = np.delete(arr4,0,axis=1)"
   ]
  },
  {
   "cell_type": "code",
   "execution_count": 69,
   "id": "6f9baf56-ccde-43e7-bc43-ca31e57e9947",
   "metadata": {},
   "outputs": [
    {
     "data": {
      "text/plain": [
       "array([[[0.01409199, 0.10097156, 0.37598779]],\n",
       "\n",
       "       [[0.97814808, 0.46909365, 0.1948998 ]],\n",
       "\n",
       "       [[0.34753391, 0.17991348, 0.61279281]]])"
      ]
     },
     "execution_count": 69,
     "metadata": {},
     "output_type": "execute_result"
    }
   ],
   "source": [
    "arr5"
   ]
  },
  {
   "cell_type": "code",
   "execution_count": 70,
   "id": "a17620bf-5b89-4296-8223-1f8b0c1ce831",
   "metadata": {},
   "outputs": [],
   "source": [
    "np.save(\"new_array\",arr5)"
   ]
  },
  {
   "cell_type": "code",
   "execution_count": 71,
   "id": "8070fd88-524f-4ed0-8bc7-e3cf7173b4a4",
   "metadata": {},
   "outputs": [
    {
     "data": {
      "text/plain": [
       "array([[[0.01409199, 0.10097156, 0.37598779]],\n",
       "\n",
       "       [[0.97814808, 0.46909365, 0.1948998 ]],\n",
       "\n",
       "       [[0.34753391, 0.17991348, 0.61279281]]])"
      ]
     },
     "execution_count": 71,
     "metadata": {},
     "output_type": "execute_result"
    }
   ],
   "source": [
    "np.load(\"new_array.npy\")"
   ]
  },
  {
   "cell_type": "code",
   "execution_count": null,
   "id": "5cd173e5-7f0a-4bc5-a882-c03fd88e5fc3",
   "metadata": {},
   "outputs": [],
   "source": []
  }
 ],
 "metadata": {
  "kernelspec": {
   "display_name": "Python 3 (ipykernel)",
   "language": "python",
   "name": "python3"
  },
  "language_info": {
   "codemirror_mode": {
    "name": "ipython",
    "version": 3
   },
   "file_extension": ".py",
   "mimetype": "text/x-python",
   "name": "python",
   "nbconvert_exporter": "python",
   "pygments_lexer": "ipython3",
   "version": "3.13.2"
  }
 },
 "nbformat": 4,
 "nbformat_minor": 5
}
